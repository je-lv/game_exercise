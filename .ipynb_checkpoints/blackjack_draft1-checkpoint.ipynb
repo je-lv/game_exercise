{
 "cells": [
  {
   "cell_type": "code",
   "execution_count": 1,
   "metadata": {},
   "outputs": [],
   "source": [
    "def generar_deck():\n",
    "    str_nums = [str(f) for f in range(2,11)] + [\"Rey\", \"Reina\", \"Joker\", \"As\"]\n",
    "    nums = [i for i in range(2,11)] + [10] * 3 + [11]\n",
    "    \n",
    "    corazones = dict(zip([i + \" de Corazones\" for i in str_nums],nums))\n",
    "    diamantes = dict(zip([i + \" de Diamantes\" for i in str_nums], nums))\n",
    "    espadas = dict(zip([i + \" de Espadas\" for i in str_nums], nums))\n",
    "    treboles = dict(zip([i + \" de Treboles\" for i in str_nums], nums))\n",
    "    \n",
    "    deck = {**corazones, **diamantes, **espadas, **treboles}\n",
    "    \n",
    "    return deck\n"
   ]
  },
  {
   "cell_type": "code",
   "execution_count": 2,
   "metadata": {},
   "outputs": [],
   "source": [
    "def barajear():\n",
    "    import random\n",
    "    d = generar_deck()\n",
    "    \n",
    "    keys =  list(d.keys())\n",
    "    \n",
    "    random.shuffle(keys)\n",
    "    \n",
    "    global shuffled_deck\n",
    "        \n",
    "    shuffled_deck = [(key, d[key]) for key in keys]\n",
    "    \n",
    "    return shuffled_deck"
   ]
  },
  {
   "cell_type": "code",
   "execution_count": 3,
   "metadata": {},
   "outputs": [],
   "source": [
    "def show_comp_card():\n",
    "    print(\"La carta de la computadora es: \")\n",
    "    print(shuffled_deck[0][0], end=\": \")\n",
    "    \n",
    "    global comp_score\n",
    "    \n",
    "    comp_score = shuffled_deck[0][1]\n",
    "    print(shuffled_deck[0][1])\n",
    "    print(\"El puntaje de la computadora es: {}\".format(comp_score))\n",
    "\n",
    "    shuffled_deck.remove(shuffled_deck[0])\n",
    "    \n",
    "    return shuffled_deck, comp_score"
   ]
  },
  {
   "cell_type": "code",
   "execution_count": 4,
   "metadata": {},
   "outputs": [],
   "source": [
    "def show_player_card():\n",
    "    print(\"Tus cartas son: \")\n",
    "    print(shuffled_deck[0][0], end=\": \")\n",
    "    print(shuffled_deck[0][1])\n",
    "    \n",
    "    print(shuffled_deck[1][0], end=\": \")\n",
    "    print(shuffled_deck[1][1])\n",
    "    \n",
    "    global player_score\n",
    "    player_score = shuffled_deck[0][1] + shuffled_deck[1][1]\n",
    "    if player_score > 21:\n",
    "        show_play_card()\n",
    "    else:\n",
    "        print(\"Tu puntaje es: {}\".format(player_score))\n",
    "    \n",
    "    del shuffled_deck[0]\n",
    "    del shuffled_deck[0]\n",
    "    return shuffled_deck, player_score"
   ]
  },
  {
   "cell_type": "code",
   "execution_count": 5,
   "metadata": {},
   "outputs": [],
   "source": [
    "def give_1_card(player):\n",
    "    if player == \"Jugador\":\n",
    "        global player_score \n",
    "        player_score = player_score + shuffled_deck[0][1]\n",
    "        print(\"Tu carta es {}. Tu score es {}\\n\".format(shuffled_deck[0][0], player_score))\n",
    "        del shuffled_deck[0]\n",
    "        return shuffled_deck, player_score\n",
    "    elif player == \"Computadora\": \n",
    "        global comp_score\n",
    "        comp_score = comp_score + shuffled_deck[0][1]\n",
    "        print(\"La carta de la computadora es {}. Su score es {}\\n\".format(shuffled_deck[0][0], comp_score))\n",
    "        del shuffled_deck[0]\n",
    "        return shuffled_deck, comp_score"
   ]
  },
  {
   "cell_type": "code",
   "execution_count": 6,
   "metadata": {},
   "outputs": [],
   "source": [
    "def play_again():\n",
    "    again = input(\"¿Quiéres jugar de nuevo? (S/N) : \").lower()\n",
    "    if again == \"s\":\n",
    "        comp_score = []\n",
    "        player_score = []\n",
    "        generar_deck()\n",
    "        game()\n",
    "        print(\"\\n\\n\")\n",
    "    else:\n",
    "        print(\"¡Adiós!\")"
   ]
  },
  {
   "cell_type": "code",
   "execution_count": 7,
   "metadata": {},
   "outputs": [],
   "source": [
    "def blackjack(comp_score, player_score):\n",
    "    if player_score == 21:\n",
    "        show_player_card, show_comp_card\n",
    "        print(\"¡Felicidades obtuviste un Blackjack!\\n\")\n",
    "        play_again()\n",
    "    elif comp_score == 21:\n",
    "        show_player_card, show_comp_card\n",
    "        print(\"¡Perdiste la computadora obtuvo un Blackjack!\")\n",
    "        play_again()"
   ]
  },
  {
   "cell_type": "code",
   "execution_count": 8,
   "metadata": {},
   "outputs": [],
   "source": [
    "def clear():\n",
    "    import os\n",
    "    if os.name == \"nt\":\n",
    "        os.system('CLS')\n",
    "    if os.name == \"posix\":\n",
    "        os.system('clear')"
   ]
  },
  {
   "cell_type": "code",
   "execution_count": 9,
   "metadata": {},
   "outputs": [],
   "source": [
    "def resultado(comp_score, player_score):\n",
    "    if player_score == 21:\n",
    "        print(\"\\Felicidades, obtuviste un Blackjack.\\n\")\n",
    "    elif comp_score == 21:\n",
    "        print(\"\\nPerdiste, la computadora obtuvo un Blackjack\\n\")\n",
    "    elif player_score > 21:\n",
    "        print(\"\\nPerdiste, te pasaste de 21.\\n\")\n",
    "    elif comp_score > 21:\n",
    "        print(\"\\nGanaste, la computadora se pasó de 21.\\n\")\n",
    "    elif comp_score > player_score: \n",
    "        print(\"\\n¡La computadora gana con {}! ¡Fin del juego!\\n'\".format(comp_score))\n",
    "    elif player_score > comp_score: \n",
    "        print(\"\\n¡Jugador gana con {}! ¡Fin del juego!\\n\".format(player_score))\n",
    "    elif player_score == comp_score:\n",
    "        print(\"\\nVaya, un empate.\\n\")\n",
    "        "
   ]
  },
  {
   "cell_type": "code",
   "execution_count": null,
   "metadata": {},
   "outputs": [
    {
     "name": "stdout",
     "output_type": "stream",
     "text": [
      "\n",
      " -------------------------------------------------- \n",
      "\n",
      "¡Juguemos Blackjack!\n",
      "\n",
      "Tus cartas son: \n",
      "10 de Diamantes: 10\n",
      "9 de Treboles: 9\n",
      "Tu puntaje es: 19\n",
      "\n",
      "\n",
      "La carta de la computadora es: \n",
      "Reina de Corazones: 10\n",
      "El puntaje de la computadora es: 10\n",
      "\n",
      "¿Quieres [T]omar una carta, [R]eservar o [S]alir?: r\n",
      "La carta de la computadora es 5 de Treboles. Su score es 15\n",
      "\n",
      "La carta de la computadora es 3 de Corazones. Su score es 18\n",
      "\n",
      "\n",
      "¡Jugador gana con 19! ¡Fin del juego!\n",
      "\n",
      "¿Quiéres jugar de nuevo? (S/N) : s\n",
      "\n",
      " -------------------------------------------------- \n",
      "\n",
      "¡Juguemos Blackjack!\n",
      "\n",
      "Tus cartas son: \n",
      "Joker de Corazones: 10\n",
      "4 de Diamantes: 4\n",
      "Tu puntaje es: 14\n",
      "\n",
      "\n",
      "La carta de la computadora es: \n",
      "8 de Espadas: 8\n",
      "El puntaje de la computadora es: 8\n",
      "\n",
      "¿Quieres [T]omar una carta, [R]eservar o [S]alir?: t\n",
      "Tu carta es 10 de Diamantes. Tu score es 24\n",
      "\n",
      "La carta de la computadora es 5 de Espadas. Su score es 13\n",
      "\n",
      "La carta de la computadora es 2 de Diamantes. Su score es 15\n",
      "\n",
      "La carta de la computadora es 8 de Diamantes. Su score es 23\n",
      "\n",
      "\n",
      "Perdiste, te pasaste de 21.\n",
      "\n"
     ]
    }
   ],
   "source": [
    "def game():\n",
    "    import time\n",
    "    from time import sleep\n",
    "    generar_deck()\n",
    "    barajear()\n",
    "    choice = 0\n",
    "    clear()\n",
    "    sus = \"-\"* 50\n",
    "    print(\"\\n\", sus, \"\\n\\n¡Juguemos Blackjack!\\n\")\n",
    "    while choice != \"q\":\n",
    "        sleep(0.5)\n",
    "        show_player_card()\n",
    "        sleep(0.5)\n",
    "        print(\"\\n\")\n",
    "        show_comp_card()\n",
    "        blackjack(comp_score, player_score)\n",
    "        sleep(0.5)\n",
    "        choice = input(\"\\n¿Quieres [T]omar una carta, [R]eservar o [S]alir?: \").lower()\n",
    "        sleep(0.5)\n",
    "        clear()\n",
    "        if choice == \"t\":\n",
    "            give_1_card(\"Jugador\")\n",
    "            while comp_score < 17:\n",
    "                give_1_card(\"Computadora\")\n",
    "                sleep(0.5)\n",
    "            sleep(0.5)\n",
    "            resultado(comp_score, player_score)\n",
    "            sleep(2)\n",
    "            play_again()\n",
    "        elif choice == \"r\":\n",
    "            while comp_score < 17:\n",
    "                give_1_card(\"Computadora\")\n",
    "            sleep(0.5)\n",
    "            resultado(comp_score, player_score)\n",
    "            sleep(2)\n",
    "            play_again()\n",
    "        elif choice == \"s\":\n",
    "            print(\"¡Adiós!\")\n",
    "            break\n",
    "if __name__ == \"__main__\":\n",
    "    game()\n"
   ]
  },
  {
   "cell_type": "code",
   "execution_count": null,
   "metadata": {},
   "outputs": [],
   "source": []
  },
  {
   "cell_type": "code",
   "execution_count": null,
   "metadata": {},
   "outputs": [],
   "source": []
  },
  {
   "cell_type": "code",
   "execution_count": null,
   "metadata": {},
   "outputs": [],
   "source": []
  },
  {
   "cell_type": "code",
   "execution_count": null,
   "metadata": {},
   "outputs": [],
   "source": []
  },
  {
   "cell_type": "code",
   "execution_count": null,
   "metadata": {},
   "outputs": [],
   "source": []
  },
  {
   "cell_type": "code",
   "execution_count": null,
   "metadata": {},
   "outputs": [],
   "source": []
  },
  {
   "cell_type": "code",
   "execution_count": null,
   "metadata": {},
   "outputs": [],
   "source": []
  },
  {
   "cell_type": "code",
   "execution_count": null,
   "metadata": {},
   "outputs": [],
   "source": []
  },
  {
   "cell_type": "code",
   "execution_count": null,
   "metadata": {},
   "outputs": [],
   "source": []
  },
  {
   "cell_type": "code",
   "execution_count": null,
   "metadata": {},
   "outputs": [],
   "source": []
  },
  {
   "cell_type": "code",
   "execution_count": null,
   "metadata": {},
   "outputs": [],
   "source": []
  }
 ],
 "metadata": {
  "kernelspec": {
   "display_name": "Python 3",
   "language": "python",
   "name": "python3"
  },
  "language_info": {
   "codemirror_mode": {
    "name": "ipython",
    "version": 3
   },
   "file_extension": ".py",
   "mimetype": "text/x-python",
   "name": "python",
   "nbconvert_exporter": "python",
   "pygments_lexer": "ipython3",
   "version": "3.7.4"
  }
 },
 "nbformat": 4,
 "nbformat_minor": 2
}
