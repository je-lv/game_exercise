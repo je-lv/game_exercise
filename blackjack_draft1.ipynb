{
 "cells": [
  {
   "cell_type": "code",
   "execution_count": 1,
   "metadata": {},
   "outputs": [],
   "source": [
    "def generar_deck():\n",
    "    \n",
    "    str_nums = [str(f) for f in range(2,11)] + [\"Rey\", \"Reina\", \"Joker\", \"As\"]\n",
    "    nums = [i for i in range(2,11)] + [10] * 3 + [11]\n",
    "    \n",
    "    corazones = dict(zip([i + \" de Corazones\" for i in str_nums],nums))\n",
    "    diamantes = dict(zip([i + \" de Diamantes\" for i in str_nums], nums))\n",
    "    espadas = dict(zip([i + \" de Espadas\" for i in str_nums], nums))\n",
    "    treboles = dict(zip([i + \" de Treboles\" for i in str_nums], nums))\n",
    "    \n",
    "    deck = {**corazones, **diamantes, **espadas, **treboles}\n",
    "    \n",
    "    return deck\n"
   ]
  },
  {
   "cell_type": "code",
   "execution_count": 2,
   "metadata": {},
   "outputs": [],
   "source": [
    "def barajear():\n",
    "    import random\n",
    "    d = generar_deck()\n",
    "    \n",
    "    keys =  list(d.keys())\n",
    "    \n",
    "    random.shuffle(keys)\n",
    "    \n",
    "    global shuffled_deck\n",
    "        \n",
    "    shuffled_deck = [(key, d[key]) for key in keys]\n",
    "    \n",
    "    return shuffled_deck"
   ]
  },
  {
   "cell_type": "code",
   "execution_count": 3,
   "metadata": {},
   "outputs": [
    {
     "data": {
      "text/plain": [
       "(52,\n",
       " [('8 de Treboles', 8),\n",
       "  ('5 de Corazones', 5),\n",
       "  ('6 de Treboles', 6),\n",
       "  ('Rey de Espadas', 10),\n",
       "  ('8 de Espadas', 8)])"
      ]
     },
     "execution_count": 3,
     "metadata": {},
     "output_type": "execute_result"
    }
   ],
   "source": [
    "len(barajear()), barajear()[:5]"
   ]
  },
  {
   "cell_type": "code",
   "execution_count": 4,
   "metadata": {},
   "outputs": [],
   "source": [
    "def show_comp_card():\n",
    "    print(shuffled_deck[0][0], end=\": \")\n",
    "    \n",
    "    global comp_score\n",
    "    \n",
    "    comp_score = shuffled_deck[0][1]\n",
    "    print(shuffled_deck[0][1])\n",
    "    \n",
    "    shuffled_deck.remove(shuffled_deck[0])\n",
    "    \n",
    "    return shuffled_deck, comp_score"
   ]
  },
  {
   "cell_type": "code",
   "execution_count": 5,
   "metadata": {},
   "outputs": [
    {
     "name": "stdout",
     "output_type": "stream",
     "text": [
      "8 de Treboles: 8\n"
     ]
    },
    {
     "data": {
      "text/plain": [
       "(([('5 de Corazones', 5),\n",
       "   ('6 de Treboles', 6),\n",
       "   ('Rey de Espadas', 10),\n",
       "   ('8 de Espadas', 8),\n",
       "   ('Reina de Diamantes', 10),\n",
       "   ('4 de Corazones', 4),\n",
       "   ('As de Corazones', 11),\n",
       "   ('7 de Corazones', 7),\n",
       "   ('8 de Corazones', 8),\n",
       "   ('3 de Diamantes', 3),\n",
       "   ('2 de Diamantes', 2),\n",
       "   ('9 de Espadas', 9),\n",
       "   ('As de Espadas', 11),\n",
       "   ('Joker de Diamantes', 10),\n",
       "   ('Rey de Diamantes', 10),\n",
       "   ('Reina de Treboles', 10),\n",
       "   ('Rey de Corazones', 10),\n",
       "   ('3 de Treboles', 3),\n",
       "   ('9 de Treboles', 9),\n",
       "   ('Joker de Treboles', 10),\n",
       "   ('2 de Espadas', 2),\n",
       "   ('4 de Treboles', 4),\n",
       "   ('10 de Diamantes', 10),\n",
       "   ('7 de Treboles', 7),\n",
       "   ('6 de Corazones', 6),\n",
       "   ('10 de Corazones', 10),\n",
       "   ('7 de Espadas', 7),\n",
       "   ('As de Diamantes', 11),\n",
       "   ('Reina de Espadas', 10),\n",
       "   ('3 de Espadas', 3),\n",
       "   ('Rey de Treboles', 10),\n",
       "   ('9 de Diamantes', 9),\n",
       "   ('Joker de Espadas', 10),\n",
       "   ('4 de Espadas', 4),\n",
       "   ('2 de Treboles', 2),\n",
       "   ('4 de Diamantes', 4),\n",
       "   ('9 de Corazones', 9),\n",
       "   ('10 de Espadas', 10),\n",
       "   ('2 de Corazones', 2),\n",
       "   ('6 de Espadas', 6),\n",
       "   ('Joker de Corazones', 10),\n",
       "   ('3 de Corazones', 3),\n",
       "   ('5 de Diamantes', 5),\n",
       "   ('As de Treboles', 11),\n",
       "   ('6 de Diamantes', 6),\n",
       "   ('5 de Espadas', 5),\n",
       "   ('10 de Treboles', 10),\n",
       "   ('Reina de Corazones', 10),\n",
       "   ('7 de Diamantes', 7),\n",
       "   ('8 de Diamantes', 8),\n",
       "   ('5 de Treboles', 5)],\n",
       "  8),\n",
       " 51)"
      ]
     },
     "execution_count": 5,
     "metadata": {},
     "output_type": "execute_result"
    }
   ],
   "source": [
    "show_comp_card()[:5], len(shuffled_deck)"
   ]
  },
  {
   "cell_type": "code",
   "execution_count": 6,
   "metadata": {},
   "outputs": [],
   "source": [
    "def show_player_card():\n",
    "    print(shuffled_deck[0][0], end=\": \")\n",
    "    print(shuffled_deck[0][1])\n",
    "    \n",
    "    print(shuffled_deck[1][0], end=\": \")\n",
    "    print(shuffled_deck[1][1])\n",
    "    \n",
    "    global player_score\n",
    "    player_score = shuffled_deck[0][1] + shuffled_deck[1][1]\n",
    "    \n",
    "    print(\"Player score: {}\".format(player_score))\n",
    "    \n",
    "    del shuffled_deck[0]\n",
    "    del shuffled_deck[0]\n",
    "    return shuffled_deck, player_score"
   ]
  },
  {
   "cell_type": "code",
   "execution_count": 7,
   "metadata": {},
   "outputs": [
    {
     "data": {
      "text/plain": [
       "51"
      ]
     },
     "execution_count": 7,
     "metadata": {},
     "output_type": "execute_result"
    }
   ],
   "source": [
    "len(shuffled_deck)"
   ]
  },
  {
   "cell_type": "code",
   "execution_count": 8,
   "metadata": {},
   "outputs": [
    {
     "name": "stdout",
     "output_type": "stream",
     "text": [
      "5 de Corazones: 5\n",
      "6 de Treboles: 6\n",
      "Player score: 11\n"
     ]
    },
    {
     "data": {
      "text/plain": [
       "([('Rey de Espadas', 10),\n",
       "  ('8 de Espadas', 8),\n",
       "  ('Reina de Diamantes', 10),\n",
       "  ('4 de Corazones', 4),\n",
       "  ('As de Corazones', 11),\n",
       "  ('7 de Corazones', 7),\n",
       "  ('8 de Corazones', 8),\n",
       "  ('3 de Diamantes', 3),\n",
       "  ('2 de Diamantes', 2),\n",
       "  ('9 de Espadas', 9),\n",
       "  ('As de Espadas', 11),\n",
       "  ('Joker de Diamantes', 10),\n",
       "  ('Rey de Diamantes', 10),\n",
       "  ('Reina de Treboles', 10),\n",
       "  ('Rey de Corazones', 10),\n",
       "  ('3 de Treboles', 3),\n",
       "  ('9 de Treboles', 9),\n",
       "  ('Joker de Treboles', 10),\n",
       "  ('2 de Espadas', 2),\n",
       "  ('4 de Treboles', 4),\n",
       "  ('10 de Diamantes', 10),\n",
       "  ('7 de Treboles', 7),\n",
       "  ('6 de Corazones', 6),\n",
       "  ('10 de Corazones', 10),\n",
       "  ('7 de Espadas', 7),\n",
       "  ('As de Diamantes', 11),\n",
       "  ('Reina de Espadas', 10),\n",
       "  ('3 de Espadas', 3),\n",
       "  ('Rey de Treboles', 10),\n",
       "  ('9 de Diamantes', 9),\n",
       "  ('Joker de Espadas', 10),\n",
       "  ('4 de Espadas', 4),\n",
       "  ('2 de Treboles', 2),\n",
       "  ('4 de Diamantes', 4),\n",
       "  ('9 de Corazones', 9),\n",
       "  ('10 de Espadas', 10),\n",
       "  ('2 de Corazones', 2),\n",
       "  ('6 de Espadas', 6),\n",
       "  ('Joker de Corazones', 10),\n",
       "  ('3 de Corazones', 3),\n",
       "  ('5 de Diamantes', 5),\n",
       "  ('As de Treboles', 11),\n",
       "  ('6 de Diamantes', 6),\n",
       "  ('5 de Espadas', 5),\n",
       "  ('10 de Treboles', 10),\n",
       "  ('Reina de Corazones', 10),\n",
       "  ('7 de Diamantes', 7),\n",
       "  ('8 de Diamantes', 8),\n",
       "  ('5 de Treboles', 5)],\n",
       " 11)"
      ]
     },
     "execution_count": 8,
     "metadata": {},
     "output_type": "execute_result"
    }
   ],
   "source": [
    "show_player_card()[:5]"
   ]
  },
  {
   "cell_type": "code",
   "execution_count": 9,
   "metadata": {},
   "outputs": [
    {
     "data": {
      "text/plain": [
       "49"
      ]
     },
     "execution_count": 9,
     "metadata": {},
     "output_type": "execute_result"
    }
   ],
   "source": [
    "len(shuffled_deck)"
   ]
  },
  {
   "cell_type": "code",
   "execution_count": 10,
   "metadata": {},
   "outputs": [
    {
     "data": {
      "text/plain": [
       "[('Rey de Espadas', 10),\n",
       " ('8 de Espadas', 8),\n",
       " ('Reina de Diamantes', 10),\n",
       " ('4 de Corazones', 4),\n",
       " ('As de Corazones', 11)]"
      ]
     },
     "execution_count": 10,
     "metadata": {},
     "output_type": "execute_result"
    }
   ],
   "source": [
    "shuffled_deck[:5]"
   ]
  },
  {
   "cell_type": "code",
   "execution_count": 11,
   "metadata": {},
   "outputs": [
    {
     "data": {
      "text/plain": [
       "(8, 11)"
      ]
     },
     "execution_count": 11,
     "metadata": {},
     "output_type": "execute_result"
    }
   ],
   "source": [
    "comp_score, player_score"
   ]
  },
  {
   "cell_type": "code",
   "execution_count": 12,
   "metadata": {},
   "outputs": [],
   "source": [
    "def give_1_card(player):\n",
    "    if player == \"Jugador\":\n",
    "        global player_score \n",
    "        player_score = player_score + shuffled_deck[0][1]\n",
    "        print(\"Tu carta es {}. Tu score es {}\\n\".format(shuffled_deck[0][0], player_score))\n",
    "        del shuffled_deck[0]\n",
    "        return shuffled_deck, player_score\n",
    "    else: \n",
    "        global comp_score\n",
    "        comp_score = comp_score + shuffled_deck[0][1]\n",
    "        print(\"La carta de la computadora es {}. Su score es {}\\n\".format(shuffled_deck[0][0], comp_score))\n",
    "        del shuffled_deck[0]\n",
    "        return shuffled_deck, comp_score"
   ]
  },
  {
   "cell_type": "code",
   "execution_count": 13,
   "metadata": {},
   "outputs": [
    {
     "name": "stdout",
     "output_type": "stream",
     "text": [
      "Las puntuaciones son:\n",
      " -Computadora: 8 \n",
      " -Jugador: 11\n",
      "Tomar otra carta? S/N\n",
      "s\n",
      "La carta de la computadora es Rey de Espadas. Su score es 18\n",
      "\n",
      "Tu carta es 8 de Espadas. Tu score es 19\n",
      "\n",
      "Tomar otra carta? S/N\n",
      "n\n",
      "\n",
      "Jugador Gana con 19. Fin del Juego!\n",
      "\n"
     ]
    }
   ],
   "source": [
    "print(\"Las puntuaciones son:\\n -Computadora: {} \\n -Jugador: {}\". format(comp_score, player_score))\n",
    "    \n",
    "while True:\n",
    "    op = input(\"Tomar otra carta? S/N\\n\").lower()\n",
    "\n",
    "    if op == \"s\" and comp_score >= 17:\n",
    "        give_1_card(\"Jugador\")\n",
    "        if player_score > 21:\n",
    "            print(\"Jugador pierde! Mayor a 21!\\n\")\n",
    "            break\n",
    "\n",
    "    elif op == \"s\" and player_score > 21:\n",
    "        print(\"Jugador pierde! Mayor a 21!\\n\")\n",
    "        break\n",
    "\n",
    "    elif op == \"s\": \n",
    "        give_1_card(\"Computadora\")\n",
    "        give_1_card(\"Jugador\")\n",
    "        if player_score > 21:\n",
    "            print(\"Jugador pierde! Mayor a 21!\\n\")\n",
    "            break\n",
    "        if comp_score > 21:\n",
    "            print(\"\\nLa computadora pierde con {}! Fin del Juego!\\n\".format(comp_score))\n",
    "            break\n",
    "            \n",
    "    elif comp_score < 17:\n",
    "        while not comp_score >= 17:\n",
    "            give_1_card(\"Computadora\")\n",
    "            if comp_score > 21:\n",
    "                print(\"La Computadora pierde! Mayor a 21!\\n\". format(comp_score))\n",
    "                break\n",
    "            elif comp_score > player_score:\n",
    "                print(\"La Computadora gana con {}!\\n\". format(comp_score))\n",
    "                break\n",
    "\n",
    "        \n",
    "    else:\n",
    "        if comp_score > player_score: \n",
    "            print(\"\\nLa computadora Gana con {}! Fin del Juego!\\n'\".format(comp_score))\n",
    "            break\n",
    "        else: \n",
    "            print(\"\\nJugador Gana con {}. Fin del Juego!\\n\".format(player_score))\n",
    "            break"
   ]
  },
  {
   "cell_type": "code",
   "execution_count": null,
   "metadata": {},
   "outputs": [],
   "source": []
  },
  {
   "cell_type": "code",
   "execution_count": null,
   "metadata": {},
   "outputs": [],
   "source": []
  },
  {
   "cell_type": "code",
   "execution_count": null,
   "metadata": {},
   "outputs": [],
   "source": []
  },
  {
   "cell_type": "code",
   "execution_count": null,
   "metadata": {},
   "outputs": [],
   "source": []
  },
  {
   "cell_type": "code",
   "execution_count": null,
   "metadata": {},
   "outputs": [],
   "source": []
  },
  {
   "cell_type": "code",
   "execution_count": null,
   "metadata": {},
   "outputs": [],
   "source": []
  }
 ],
 "metadata": {
  "kernelspec": {
   "display_name": "Python 3",
   "language": "python",
   "name": "python3"
  },
  "language_info": {
   "codemirror_mode": {
    "name": "ipython",
    "version": 3
   },
   "file_extension": ".py",
   "mimetype": "text/x-python",
   "name": "python",
   "nbconvert_exporter": "python",
   "pygments_lexer": "ipython3",
   "version": "3.7.3"
  }
 },
 "nbformat": 4,
 "nbformat_minor": 2
}
